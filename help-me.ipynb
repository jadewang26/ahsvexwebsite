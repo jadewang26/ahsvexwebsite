{
 "cells": [
  {
   "cell_type": "code",
   "execution_count": 1,
   "id": "d89ec73a",
   "metadata": {
    "_cell_guid": "b1076dfc-b9ad-4769-8c92-a6c4dae69d19",
    "_uuid": "8f2839f25d086af736a60e9eeb907d3b93b6e0e5",
    "execution": {
     "iopub.execute_input": "2022-09-18T02:43:08.744718Z",
     "iopub.status.busy": "2022-09-18T02:43:08.744083Z",
     "iopub.status.idle": "2022-09-18T02:43:10.658054Z",
     "shell.execute_reply": "2022-09-18T02:43:10.656832Z"
    },
    "papermill": {
     "duration": 1.926061,
     "end_time": "2022-09-18T02:43:10.661323",
     "exception": false,
     "start_time": "2022-09-18T02:43:08.735262",
     "status": "completed"
    },
    "tags": []
   },
   "outputs": [
    {
     "name": "stdout",
     "output_type": "stream",
     "text": [
      "/kaggle/input/digit-recognizer/sample_submission.csv\n",
      "/kaggle/input/digit-recognizer/train.csv\n",
      "/kaggle/input/digit-recognizer/test.csv\n"
     ]
    }
   ],
   "source": [
    "# This Python 3 environment comes with many helpful analytics libraries installed\n",
    "# It is defined by the kaggle/python Docker image: https://github.com/kaggle/docker-python\n",
    "# For example, here's several helpful packages to load\n",
    "\n",
    "import numpy as np\n",
    "import pandas as pd\n",
    "import torch\n",
    "import torch.nn as nn\n",
    "import torch.nn.functional as F\n",
    "import torch.optim as optim\n",
    "import torch.utils as utils\n",
    "from tqdm import tqdm\n",
    "\n",
    "import matplotlib.pyplot as plt\n",
    "\n",
    "# Input data files are available in the read-only \"../input/\" directory\n",
    "# For example, running this (by clicking run or pressing Shift+Enter) will list all files under the input directory\n",
    "\n",
    "import os\n",
    "for dirname, _, filenames in os.walk('/kaggle/input'):\n",
    "    for filename in filenames:\n",
    "        print(os.path.join(dirname, filename))\n",
    "\n",
    "# You can write up to 20GB to the current directory (/kaggle/working/) that gets preserved as output when you create a version using \"Save & Run All\" \n",
    "# You can also write temporary files to /kaggle/temp/, but they won't be saved outside of the current session"
   ]
  },
  {
   "cell_type": "code",
   "execution_count": 2,
   "id": "8c8dfd42",
   "metadata": {
    "execution": {
     "iopub.execute_input": "2022-09-18T02:43:10.669946Z",
     "iopub.status.busy": "2022-09-18T02:43:10.669376Z",
     "iopub.status.idle": "2022-09-18T02:43:14.543839Z",
     "shell.execute_reply": "2022-09-18T02:43:14.542621Z"
    },
    "papermill": {
     "duration": 3.88164,
     "end_time": "2022-09-18T02:43:14.546483",
     "exception": false,
     "start_time": "2022-09-18T02:43:10.664843",
     "status": "completed"
    },
    "tags": []
   },
   "outputs": [
    {
     "name": "stdout",
     "output_type": "stream",
     "text": [
      "(42000, 785)\n"
     ]
    }
   ],
   "source": [
    "# init training data\n",
    "train = pd.read_csv('/kaggle/input/digit-recognizer/train.csv')\n",
    "train = np.array(train)\n",
    "print(train.shape)"
   ]
  },
  {
   "cell_type": "code",
   "execution_count": 3,
   "id": "4a111579",
   "metadata": {
    "execution": {
     "iopub.execute_input": "2022-09-18T02:43:14.555609Z",
     "iopub.status.busy": "2022-09-18T02:43:14.554400Z",
     "iopub.status.idle": "2022-09-18T02:43:14.559881Z",
     "shell.execute_reply": "2022-09-18T02:43:14.558890Z"
    },
    "papermill": {
     "duration": 0.012259,
     "end_time": "2022-09-18T02:43:14.562199",
     "exception": false,
     "start_time": "2022-09-18T02:43:14.549940",
     "status": "completed"
    },
    "tags": []
   },
   "outputs": [],
   "source": [
    "# init X, y from training data\n",
    "X = train[:, 1:]\n",
    "y = train[:, 0]"
   ]
  },
  {
   "cell_type": "code",
   "execution_count": 4,
   "id": "3921a501",
   "metadata": {
    "execution": {
     "iopub.execute_input": "2022-09-18T02:43:14.570537Z",
     "iopub.status.busy": "2022-09-18T02:43:14.570120Z",
     "iopub.status.idle": "2022-09-18T02:43:15.491306Z",
     "shell.execute_reply": "2022-09-18T02:43:15.490372Z"
    },
    "papermill": {
     "duration": 0.927947,
     "end_time": "2022-09-18T02:43:15.493655",
     "exception": false,
     "start_time": "2022-09-18T02:43:14.565708",
     "status": "completed"
    },
    "tags": []
   },
   "outputs": [
    {
     "data": {
      "image/png": "[encoded data removed]",
      "text/plain": [
       "<Figure size 432x288 with 1 Axes>"
      ]
     },
     "metadata": {
      "needs_background": "light"
     },
     "output_type": "display_data"
    },
    {
     "data": {
      "image/png": "[encoded data removed]",
      "text/plain": [
       "<Figure size 432x288 with 1 Axes>"
      ]
     },
     "metadata": {
      "needs_background": "light"
     },
     "output_type": "display_data"
    },
    {
     "data": {
      "image/png": "[encoded data removed]",
      "text/plain": [
       "<Figure size 432x288 with 1 Axes>"
      ]
     },
     "metadata": {
      "needs_background": "light"
     },
     "output_type": "display_data"
    },
    {
     "data": {
      "image/png": "[encoded data removed]",
      "text/plain": [
       "<Figure size 432x288 with 1 Axes>"
      ]
     },
     "metadata": {
      "needs_background": "light"
     },
     "output_type": "display_data"
    },
    {
     "data": {
      "image/png": "[encoded data removed]",
      "text/plain": [
       "<Figure size 432x288 with 1 Axes>"
      ]
     },
     "metadata": {
      "needs_background": "light"
     },
     "output_type": "display_data"
    }
   ],
   "source": [
    "# display images\n",
    "for i in range(5):\n",
    "    plt.imshow(X[i].reshape(28, 28))\n",
    "    plt.show()"
   ]
  },
  {
   "cell_type": "code",
   "execution_count": 5,
   "id": "8bfa35ef",
   "metadata": {
    "execution": {
     "iopub.execute_input": "2022-09-18T02:43:15.503707Z",
     "iopub.status.busy": "2022-09-18T02:43:15.503312Z",
     "iopub.status.idle": "2022-09-18T02:43:15.585885Z",
     "shell.execute_reply": "2022-09-18T02:43:15.584719Z"
    },
    "papermill": {
     "duration": 0.090648,
     "end_time": "2022-09-18T02:43:15.588609",
     "exception": false,
     "start_time": "2022-09-18T02:43:15.497961",
     "status": "completed"
    },
    "tags": []
   },
   "outputs": [],
   "source": [
    "# convert to pytorch tensor from numpy\n",
    "X_tensor = torch.from_numpy(X)\n",
    "X_tensor = X_tensor.float()\n",
    "y_tensor = torch.from_numpy(y)\n",
    "\n",
    "# split data into training/validation\n",
    "training_X = X_tensor[:33600]\n",
    "training_y = y_tensor[:33600]\n",
    "\n",
    "validation_X = X_tensor[:8400]\n",
    "validation_y = y_tensor[:8400]"
   ]
  },
  {
   "cell_type": "code",
   "execution_count": 6,
   "id": "e22ba14c",
   "metadata": {
    "execution": {
     "iopub.execute_input": "2022-09-18T02:43:15.599796Z",
     "iopub.status.busy": "2022-09-18T02:43:15.598156Z",
     "iopub.status.idle": "2022-09-18T02:43:15.606657Z",
     "shell.execute_reply": "2022-09-18T02:43:15.605717Z"
    },
    "papermill": {
     "duration": 0.016063,
     "end_time": "2022-09-18T02:43:15.608903",
     "exception": false,
     "start_time": "2022-09-18T02:43:15.592840",
     "status": "completed"
    },
    "tags": []
   },
   "outputs": [],
   "source": [
    "# create your neural network! \n",
    "class Net(nn.Module):\n",
    "    # init layers\n",
    "    def __init__(self):\n",
    "        super(Net, self).__init__()\n",
    "        self.layer1 = nn.Linear(784, 50, True)\n",
    "        self.layer2 = nn.Linear(50, 20, True)\n",
    "        self.layer3 = nn.Linear(20, 10, True)\n",
    "        self.activation = nn.ReLU()\n",
    "    # init forward functions\n",
    "    def forward(self, x):\n",
    "        x = self.layer1(x)\n",
    "        x = self.activation(x)\n",
    "        x = self.layer2(x)\n",
    "        x = self.activation(x)\n",
    "        x = self.layer3(x)\n",
    "        return x\n",
    "    \n",
    "\n",
    "\n",
    "        \n",
    "        \n"
   ]
  },
  {
   "cell_type": "code",
   "execution_count": 7,
   "id": "66d8d449",
   "metadata": {
    "execution": {
     "iopub.execute_input": "2022-09-18T02:43:15.618636Z",
     "iopub.status.busy": "2022-09-18T02:43:15.618250Z",
     "iopub.status.idle": "2022-09-18T02:43:15.693090Z",
     "shell.execute_reply": "2022-09-18T02:43:15.692162Z"
    },
    "papermill": {
     "duration": 0.082711,
     "end_time": "2022-09-18T02:43:15.695754",
     "exception": false,
     "start_time": "2022-09-18T02:43:15.613043",
     "status": "completed"
    },
    "tags": []
   },
   "outputs": [],
   "source": [
    "# run instance of your neural network\n",
    "my_nn = Net()\n",
    "result = my_nn(training_X)\n",
    "# print(result.shape)"
   ]
  },
  {
   "cell_type": "code",
   "execution_count": 8,
   "id": "272d7678",
   "metadata": {
    "execution": {
     "iopub.execute_input": "2022-09-18T02:43:15.706264Z",
     "iopub.status.busy": "2022-09-18T02:43:15.705561Z",
     "iopub.status.idle": "2022-09-18T02:44:50.338826Z",
     "shell.execute_reply": "2022-09-18T02:44:50.337586Z"
    },
    "papermill": {
     "duration": 94.643836,
     "end_time": "2022-09-18T02:44:50.343763",
     "exception": false,
     "start_time": "2022-09-18T02:43:15.699927",
     "status": "completed"
    },
    "tags": []
   },
   "outputs": [
    {
     "name": "stderr",
     "output_type": "stream",
     "text": [
      "100%|██████████| 1000/1000 [01:34<00:00, 10.57it/s]\n"
     ]
    }
   ],
   "source": [
    "# definine criterion and optimizers\n",
    "criterion = nn.CrossEntropyLoss()\n",
    "optimizer = optim.Adam(my_nn.parameters())\n",
    "\n",
    "epochs = 1000\n",
    "training_losses = []\n",
    "validation_losses = []\n",
    "\n",
    "# train data\n",
    "for i in tqdm(range(epochs)):\n",
    "    my_nn.zero_grad()\n",
    "    loss = criterion(my_nn(training_X), training_y)\n",
    "    loss.backward()\n",
    "    optimizer.step()\n",
    "    training_losses.append(loss.item())\n",
    "    with torch.no_grad():\n",
    "        my_nn.zero_grad()\n",
    "        loss = criterion(my_nn(validation_X), validation_y)\n",
    "        validation_losses.append(loss.item())\n",
    "    \n",
    "\n",
    "# print(criterion(result, training_y))"
   ]
  },
  {
   "cell_type": "code",
   "execution_count": 9,
   "id": "31261292",
   "metadata": {
    "execution": {
     "iopub.execute_input": "2022-09-18T02:44:50.414346Z",
     "iopub.status.busy": "2022-09-18T02:44:50.413574Z",
     "iopub.status.idle": "2022-09-18T02:44:50.619587Z",
     "shell.execute_reply": "2022-09-18T02:44:50.618776Z"
    },
    "papermill": {
     "duration": 0.244068,
     "end_time": "2022-09-18T02:44:50.621896",
     "exception": false,
     "start_time": "2022-09-18T02:44:50.377828",
     "status": "completed"
    },
    "tags": []
   },
   "outputs": [
    {
     "data": {
      "text/plain": [
       "[<matplotlib.lines.Line2D at 0x7f3a087af1d0>]"
      ]
     },
     "execution_count": 9,
     "metadata": {},
     "output_type": "execute_result"
    },
    {
     "data": {
      "image/png": "[encoded data removed]",
      "text/plain": [
       "<Figure size 432x288 with 1 Axes>"
      ]
     },
     "metadata": {
      "needs_background": "light"
     },
     "output_type": "display_data"
    }
   ],
   "source": [
    "# plot data\n",
    "x_axis = []\n",
    "for i in range(epochs):\n",
    "    x_axis.append(i)\n",
    "plt.plot(x_axis, training_losses)\n",
    "plt.plot(x_axis, validation_losses)"
   ]
  }
 ],
 "metadata": {
  "kernelspec": {
   "display_name": "Python 3",
   "language": "python",
   "name": "python3"
  },
  "language_info": {
   "codemirror_mode": {
    "name": "ipython",
    "version": 3
   },
   "file_extension": ".py",
   "mimetype": "text/x-python",
   "name": "python",
   "nbconvert_exporter": "python",
   "pygments_lexer": "ipython3",
   "version": "3.7.12"
  },
  "papermill": {
   "default_parameters": {},
   "duration": 112.071728,
   "end_time": "2022-09-18T02:44:51.579765",
   "environment_variables": {},
   "exception": null,
   "input_path": "__notebook__.ipynb",
   "output_path": "__notebook__.ipynb",
   "parameters": {},
   "start_time": "2022-09-18T02:42:59.508037",
   "version": "2.3.4"
  }
 },
 "nbformat": 4,
 "nbformat_minor": 5
}
